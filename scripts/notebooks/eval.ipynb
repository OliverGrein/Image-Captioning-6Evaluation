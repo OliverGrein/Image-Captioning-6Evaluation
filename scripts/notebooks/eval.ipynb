{
 "cells": [
  {
   "cell_type": "markdown",
   "metadata": {},
   "source": [
    "# Evaluation of the metrics for image captioning\n",
    "\n",
    "Scores range from 1 to 4, with a 1 indicating that the caption does not describe the image at all, a 2 indicating the caption describes minor aspects of the image but does not describe the image, a 3 indicating that the caption almost describes the image with minor mistakes, and a 4 indicating that the caption describes the image.\n",
    "\n",
    "## Cohere\n",
    "\n",
    "### Chebyshev"
   ]
  },
  {
   "cell_type": "code",
   "execution_count": 41,
   "metadata": {},
   "outputs": [
    {
     "name": "stdout",
     "output_type": "stream",
     "text": [
      "Requirement already satisfied: matplotlib in d:\\code\\image-captioning-6evaluation\\.venv\\lib\\site-packages (3.9.1)\n",
      "Collecting scipy\n",
      "  Downloading scipy-1.14.0-cp312-cp312-win_amd64.whl.metadata (60 kB)\n",
      "     ---------------------------------------- 0.0/60.8 kB ? eta -:--:--\n",
      "     ------------ ------------------------- 20.5/60.8 kB 330.3 kB/s eta 0:00:01\n",
      "     -------------------------------- ----- 51.2/60.8 kB 525.1 kB/s eta 0:00:01\n",
      "     -------------------------------------- 60.8/60.8 kB 537.5 kB/s eta 0:00:00\n",
      "Requirement already satisfied: contourpy>=1.0.1 in d:\\code\\image-captioning-6evaluation\\.venv\\lib\\site-packages (from matplotlib) (1.2.1)\n",
      "Requirement already satisfied: cycler>=0.10 in d:\\code\\image-captioning-6evaluation\\.venv\\lib\\site-packages (from matplotlib) (0.12.1)\n",
      "Requirement already satisfied: fonttools>=4.22.0 in d:\\code\\image-captioning-6evaluation\\.venv\\lib\\site-packages (from matplotlib) (4.53.1)\n",
      "Requirement already satisfied: kiwisolver>=1.3.1 in d:\\code\\image-captioning-6evaluation\\.venv\\lib\\site-packages (from matplotlib) (1.4.5)\n",
      "Requirement already satisfied: numpy>=1.23 in d:\\code\\image-captioning-6evaluation\\.venv\\lib\\site-packages (from matplotlib) (2.0.0)\n",
      "Requirement already satisfied: packaging>=20.0 in d:\\code\\image-captioning-6evaluation\\.venv\\lib\\site-packages (from matplotlib) (24.1)\n",
      "Requirement already satisfied: pillow>=8 in d:\\code\\image-captioning-6evaluation\\.venv\\lib\\site-packages (from matplotlib) (10.3.0)\n",
      "Requirement already satisfied: pyparsing>=2.3.1 in d:\\code\\image-captioning-6evaluation\\.venv\\lib\\site-packages (from matplotlib) (3.1.2)\n",
      "Requirement already satisfied: python-dateutil>=2.7 in d:\\code\\image-captioning-6evaluation\\.venv\\lib\\site-packages (from matplotlib) (2.9.0.post0)\n",
      "Requirement already satisfied: six>=1.5 in d:\\code\\image-captioning-6evaluation\\.venv\\lib\\site-packages (from python-dateutil>=2.7->matplotlib) (1.16.0)\n",
      "Downloading scipy-1.14.0-cp312-cp312-win_amd64.whl (44.5 MB)\n",
      "   ---------------------------------------- 0.0/44.5 MB ? eta -:--:--\n",
      "   ---------------------------------------- 0.1/44.5 MB 1.7 MB/s eta 0:00:26\n",
      "   ---------------------------------------- 0.3/44.5 MB 2.8 MB/s eta 0:00:16\n",
      "   ---------------------------------------- 0.5/44.5 MB 3.1 MB/s eta 0:00:15\n",
      "    --------------------------------------- 0.7/44.5 MB 3.4 MB/s eta 0:00:13\n",
      "    --------------------------------------- 0.8/44.5 MB 3.6 MB/s eta 0:00:13\n",
      "   - -------------------------------------- 1.1/44.5 MB 4.0 MB/s eta 0:00:11\n",
      "   - -------------------------------------- 1.4/44.5 MB 4.1 MB/s eta 0:00:11\n",
      "   - -------------------------------------- 1.6/44.5 MB 4.2 MB/s eta 0:00:11\n",
      "   - -------------------------------------- 1.9/44.5 MB 4.5 MB/s eta 0:00:10\n",
      "   -- ------------------------------------- 2.2/44.5 MB 4.8 MB/s eta 0:00:09\n",
      "   -- ------------------------------------- 2.6/44.5 MB 5.0 MB/s eta 0:00:09\n",
      "   -- ------------------------------------- 3.0/44.5 MB 5.3 MB/s eta 0:00:08\n",
      "   --- ------------------------------------ 3.4/44.5 MB 5.6 MB/s eta 0:00:08\n",
      "   --- ------------------------------------ 3.8/44.5 MB 5.8 MB/s eta 0:00:08\n",
      "   --- ------------------------------------ 4.3/44.5 MB 6.1 MB/s eta 0:00:07\n",
      "   ---- ----------------------------------- 4.7/44.5 MB 6.4 MB/s eta 0:00:07\n",
      "   ---- ----------------------------------- 5.4/44.5 MB 6.8 MB/s eta 0:00:06\n",
      "   ----- ---------------------------------- 6.0/44.5 MB 7.0 MB/s eta 0:00:06\n",
      "   ------ --------------------------------- 6.8/44.5 MB 7.6 MB/s eta 0:00:05\n",
      "   ------ --------------------------------- 7.4/44.5 MB 7.9 MB/s eta 0:00:05\n",
      "   ------- -------------------------------- 8.3/44.5 MB 8.4 MB/s eta 0:00:05\n",
      "   -------- ------------------------------- 9.0/44.5 MB 8.8 MB/s eta 0:00:05\n",
      "   -------- ------------------------------- 10.0/44.5 MB 9.2 MB/s eta 0:00:04\n",
      "   --------- ------------------------------ 10.8/44.5 MB 10.7 MB/s eta 0:00:04\n",
      "   ---------- ----------------------------- 11.9/44.5 MB 12.8 MB/s eta 0:00:03\n",
      "   ----------- ---------------------------- 12.9/44.5 MB 14.9 MB/s eta 0:00:03\n",
      "   ------------ --------------------------- 13.9/44.5 MB 16.4 MB/s eta 0:00:02\n",
      "   ------------- -------------------------- 14.8/44.5 MB 17.7 MB/s eta 0:00:02\n",
      "   ------------- -------------------------- 15.5/44.5 MB 18.2 MB/s eta 0:00:02\n",
      "   -------------- ------------------------- 16.7/44.5 MB 19.3 MB/s eta 0:00:02\n",
      "   --------------- ------------------------ 17.7/44.5 MB 19.9 MB/s eta 0:00:02\n",
      "   ---------------- ----------------------- 18.9/44.5 MB 20.5 MB/s eta 0:00:02\n",
      "   ------------------ --------------------- 20.2/44.5 MB 21.8 MB/s eta 0:00:02\n",
      "   ------------------- -------------------- 21.5/44.5 MB 22.6 MB/s eta 0:00:02\n",
      "   -------------------- ------------------- 22.9/44.5 MB 23.4 MB/s eta 0:00:01\n",
      "   --------------------- ------------------ 24.3/44.5 MB 26.2 MB/s eta 0:00:01\n",
      "   ----------------------- ---------------- 25.7/44.5 MB 27.3 MB/s eta 0:00:01\n",
      "   ------------------------ --------------- 27.2/44.5 MB 28.4 MB/s eta 0:00:01\n",
      "   ------------------------- -------------- 28.2/44.5 MB 28.4 MB/s eta 0:00:01\n",
      "   -------------------------- ------------- 29.5/44.5 MB 28.5 MB/s eta 0:00:01\n",
      "   --------------------------- ------------ 30.7/44.5 MB 28.5 MB/s eta 0:00:01\n",
      "   ---------------------------- ----------- 31.9/44.5 MB 28.5 MB/s eta 0:00:01\n",
      "   ----------------------------- ---------- 33.2/44.5 MB 28.5 MB/s eta 0:00:01\n",
      "   ------------------------------- -------- 34.6/44.5 MB 28.5 MB/s eta 0:00:01\n",
      "   ------------------------------- -------- 35.5/44.5 MB 27.3 MB/s eta 0:00:01\n",
      "   --------------------------------- ------ 36.7/44.5 MB 26.2 MB/s eta 0:00:01\n",
      "   ---------------------------------- ----- 38.0/44.5 MB 26.2 MB/s eta 0:00:01\n",
      "   ----------------------------------- ---- 39.2/44.5 MB 26.2 MB/s eta 0:00:01\n",
      "   ------------------------------------ --- 40.3/44.5 MB 26.2 MB/s eta 0:00:01\n",
      "   ------------------------------------- -- 41.5/44.5 MB 26.2 MB/s eta 0:00:01\n",
      "   -------------------------------------- - 42.9/44.5 MB 26.2 MB/s eta 0:00:01\n",
      "   ---------------------------------------  44.2/44.5 MB 26.2 MB/s eta 0:00:01\n",
      "   ---------------------------------------  44.5/44.5 MB 26.2 MB/s eta 0:00:01\n",
      "   ---------------------------------------  44.5/44.5 MB 26.2 MB/s eta 0:00:01\n",
      "   ---------------------------------------  44.5/44.5 MB 26.2 MB/s eta 0:00:01\n",
      "   ---------------------------------------- 44.5/44.5 MB 19.3 MB/s eta 0:00:00\n",
      "Installing collected packages: scipy\n",
      "Successfully installed scipy-1.14.0\n",
      "Note: you may need to restart the kernel to use updated packages.\n"
     ]
    },
    {
     "name": "stderr",
     "output_type": "stream",
     "text": [
      "\n",
      "[notice] A new release of pip is available: 24.0 -> 24.1.1\n",
      "[notice] To update, run: python.exe -m pip install --upgrade pip\n"
     ]
    }
   ],
   "source": [
    "%pip install matplotlib scipy"
   ]
  },
  {
   "cell_type": "code",
   "execution_count": 10,
   "metadata": {},
   "outputs": [],
   "source": [
    "import pandas as pd\n",
    "import matplotlib.pyplot as plt\n",
    "import numpy as np"
   ]
  },
  {
   "cell_type": "code",
   "execution_count": 42,
   "metadata": {},
   "outputs": [
    {
     "data": {
      "text/html": [
       "<div>\n",
       "<style scoped>\n",
       "    .dataframe tbody tr th:only-of-type {\n",
       "        vertical-align: middle;\n",
       "    }\n",
       "\n",
       "    .dataframe tbody tr th {\n",
       "        vertical-align: top;\n",
       "    }\n",
       "\n",
       "    .dataframe thead th {\n",
       "        text-align: right;\n",
       "    }\n",
       "</style>\n",
       "<table border=\"1\" class=\"dataframe\">\n",
       "  <thead>\n",
       "    <tr style=\"text-align: right;\">\n",
       "      <th></th>\n",
       "      <th>image</th>\n",
       "      <th>caption_id</th>\n",
       "      <th>avg_rating</th>\n",
       "      <th>avg_distance</th>\n",
       "    </tr>\n",
       "  </thead>\n",
       "  <tbody>\n",
       "    <tr>\n",
       "      <th>0</th>\n",
       "      <td>1056338697_4f7d7ce270.jpg</td>\n",
       "      <td>2549968784_39bfbe44f9.jpg#2</td>\n",
       "      <td>1.000000</td>\n",
       "      <td>0.016808</td>\n",
       "    </tr>\n",
       "    <tr>\n",
       "      <th>1</th>\n",
       "      <td>1056338697_4f7d7ce270.jpg</td>\n",
       "      <td>2718495608_d8533e3ac5.jpg#2</td>\n",
       "      <td>1.333333</td>\n",
       "      <td>0.032242</td>\n",
       "    </tr>\n",
       "    <tr>\n",
       "      <th>2</th>\n",
       "      <td>1056338697_4f7d7ce270.jpg</td>\n",
       "      <td>3181701312_70a379ab6e.jpg#2</td>\n",
       "      <td>1.333333</td>\n",
       "      <td>0.021873</td>\n",
       "    </tr>\n",
       "    <tr>\n",
       "      <th>3</th>\n",
       "      <td>1056338697_4f7d7ce270.jpg</td>\n",
       "      <td>3207358897_bfa61fa3c6.jpg#2</td>\n",
       "      <td>1.666667</td>\n",
       "      <td>0.019209</td>\n",
       "    </tr>\n",
       "    <tr>\n",
       "      <th>4</th>\n",
       "      <td>1056338697_4f7d7ce270.jpg</td>\n",
       "      <td>3286822339_5535af6b93.jpg#2</td>\n",
       "      <td>1.333333</td>\n",
       "      <td>0.020976</td>\n",
       "    </tr>\n",
       "  </tbody>\n",
       "</table>\n",
       "</div>"
      ],
      "text/plain": [
       "                       image                   caption_id  avg_rating  \\\n",
       "0  1056338697_4f7d7ce270.jpg  2549968784_39bfbe44f9.jpg#2    1.000000   \n",
       "1  1056338697_4f7d7ce270.jpg  2718495608_d8533e3ac5.jpg#2    1.333333   \n",
       "2  1056338697_4f7d7ce270.jpg  3181701312_70a379ab6e.jpg#2    1.333333   \n",
       "3  1056338697_4f7d7ce270.jpg  3207358897_bfa61fa3c6.jpg#2    1.666667   \n",
       "4  1056338697_4f7d7ce270.jpg  3286822339_5535af6b93.jpg#2    1.333333   \n",
       "\n",
       "   avg_distance  \n",
       "0      0.016808  \n",
       "1      0.032242  \n",
       "2      0.021873  \n",
       "3      0.019209  \n",
       "4      0.020976  "
      ]
     },
     "execution_count": 42,
     "metadata": {},
     "output_type": "execute_result"
    }
   ],
   "source": [
    "cohere_chebyshev = pd.read_csv(\"results/cohere_chebyshev_expert_distances.csv\")\n",
    "cohere_chebyshev.head()"
   ]
  },
  {
   "cell_type": "code",
   "execution_count": 43,
   "metadata": {},
   "outputs": [
    {
     "data": {
      "image/png": "[encoded data removed]",
      "text/plain": [
       "<Figure size 640x480 with 1 Axes>"
      ]
     },
     "metadata": {},
     "output_type": "display_data"
    }
   ],
   "source": [
    "# Create a pivot table on cohere_chebyshev\n",
    "pivot_table = cohere_chebyshev[cohere_chebyshev['avg_rating'].isin([1.0, 2.0, 3.0, 4.0])].pivot_table(\n",
    "    values='avg_distance',\n",
    "    index='avg_rating',\n",
    "    aggfunc='mean'\n",
    ")\n",
    "\n",
    "pivot_table.plot(kind='bar')\n",
    "plt.title('Average Chebyshev Distance by Rating')\n",
    "plt.xlabel('Average Rating')\n",
    "plt.ylabel('Average Distance')\n",
    "plt.tight_layout()\n",
    "plt.show()\n"
   ]
  },
  {
   "cell_type": "code",
   "execution_count": 44,
   "metadata": {},
   "outputs": [
    {
     "name": "stdout",
     "output_type": "stream",
     "text": [
      "[0.036487372981953765, 0.02858970524021945, 0.022363037234316985, 0.01756315285017002]\n",
      "Correlation between avg_rating and predicted_rating: 0.1640\n"
     ]
    }
   ],
   "source": [
    "breakpoints = pivot_table['avg_distance'].tolist()\n",
    "print(breakpoints)\n",
    "\n",
    "def classify_distance(distance):\n",
    "    if distance <= breakpoints[3]:\n",
    "        return 4\n",
    "    elif distance <= breakpoints[2]:\n",
    "        return 3\n",
    "    elif distance <= breakpoints[1]:\n",
    "        return 2\n",
    "    else:\n",
    "        return 1\n",
    "\n",
    "# Apply the classification function to the original dataframe\n",
    "cohere_chebyshev['predicted_rating'] = cohere_chebyshev['avg_distance'].apply(classify_distance)\n",
    "# Calculate the correlation between avg_rating and predicted_rating\n",
    "correlation = cohere_chebyshev['avg_rating'].corr(cohere_chebyshev['predicted_rating'], method='kendall')\n",
    "print(f\"Correlation between avg_rating and predicted_rating: {correlation:.4f}\")\n"
   ]
  },
  {
   "cell_type": "markdown",
   "metadata": {},
   "source": [
    "### Cosine"
   ]
  },
  {
   "cell_type": "code",
   "execution_count": 45,
   "metadata": {},
   "outputs": [
    {
     "data": {
      "text/html": [
       "<div>\n",
       "<style scoped>\n",
       "    .dataframe tbody tr th:only-of-type {\n",
       "        vertical-align: middle;\n",
       "    }\n",
       "\n",
       "    .dataframe tbody tr th {\n",
       "        vertical-align: top;\n",
       "    }\n",
       "\n",
       "    .dataframe thead th {\n",
       "        text-align: right;\n",
       "    }\n",
       "</style>\n",
       "<table border=\"1\" class=\"dataframe\">\n",
       "  <thead>\n",
       "    <tr style=\"text-align: right;\">\n",
       "      <th></th>\n",
       "      <th>image</th>\n",
       "      <th>caption_id</th>\n",
       "      <th>avg_rating</th>\n",
       "      <th>avg_distance</th>\n",
       "    </tr>\n",
       "  </thead>\n",
       "  <tbody>\n",
       "    <tr>\n",
       "      <th>0</th>\n",
       "      <td>1056338697_4f7d7ce270.jpg</td>\n",
       "      <td>2549968784_39bfbe44f9.jpg#2</td>\n",
       "      <td>1.000000</td>\n",
       "      <td>0.295083</td>\n",
       "    </tr>\n",
       "    <tr>\n",
       "      <th>1</th>\n",
       "      <td>1056338697_4f7d7ce270.jpg</td>\n",
       "      <td>2718495608_d8533e3ac5.jpg#2</td>\n",
       "      <td>1.333333</td>\n",
       "      <td>0.400195</td>\n",
       "    </tr>\n",
       "    <tr>\n",
       "      <th>2</th>\n",
       "      <td>1056338697_4f7d7ce270.jpg</td>\n",
       "      <td>3181701312_70a379ab6e.jpg#2</td>\n",
       "      <td>1.333333</td>\n",
       "      <td>0.306652</td>\n",
       "    </tr>\n",
       "    <tr>\n",
       "      <th>3</th>\n",
       "      <td>1056338697_4f7d7ce270.jpg</td>\n",
       "      <td>3207358897_bfa61fa3c6.jpg#2</td>\n",
       "      <td>1.666667</td>\n",
       "      <td>0.417062</td>\n",
       "    </tr>\n",
       "    <tr>\n",
       "      <th>4</th>\n",
       "      <td>1056338697_4f7d7ce270.jpg</td>\n",
       "      <td>3286822339_5535af6b93.jpg#2</td>\n",
       "      <td>1.333333</td>\n",
       "      <td>0.365979</td>\n",
       "    </tr>\n",
       "  </tbody>\n",
       "</table>\n",
       "</div>"
      ],
      "text/plain": [
       "                       image                   caption_id  avg_rating  \\\n",
       "0  1056338697_4f7d7ce270.jpg  2549968784_39bfbe44f9.jpg#2    1.000000   \n",
       "1  1056338697_4f7d7ce270.jpg  2718495608_d8533e3ac5.jpg#2    1.333333   \n",
       "2  1056338697_4f7d7ce270.jpg  3181701312_70a379ab6e.jpg#2    1.333333   \n",
       "3  1056338697_4f7d7ce270.jpg  3207358897_bfa61fa3c6.jpg#2    1.666667   \n",
       "4  1056338697_4f7d7ce270.jpg  3286822339_5535af6b93.jpg#2    1.333333   \n",
       "\n",
       "   avg_distance  \n",
       "0      0.295083  \n",
       "1      0.400195  \n",
       "2      0.306652  \n",
       "3      0.417062  \n",
       "4      0.365979  "
      ]
     },
     "execution_count": 45,
     "metadata": {},
     "output_type": "execute_result"
    }
   ],
   "source": [
    "cohere_cosine = pd.read_csv(\"results/cohere_cosine_expert_distances.csv\")\n",
    "cohere_cosine.head()"
   ]
  },
  {
   "cell_type": "code",
   "execution_count": 46,
   "metadata": {},
   "outputs": [
    {
     "data": {
      "image/png": "[encoded data removed]",
      "text/plain": [
       "<Figure size 640x480 with 1 Axes>"
      ]
     },
     "metadata": {},
     "output_type": "display_data"
    }
   ],
   "source": [
    "# Create a pivot table on cohere_chebyshev\n",
    "pivot_table = cohere_cosine[cohere_cosine['avg_rating'].isin([1.0, 2.0, 3.0, 4.0])].pivot_table(\n",
    "    values='avg_distance',\n",
    "    index='avg_rating',\n",
    "    aggfunc='mean'\n",
    ")\n",
    "\n",
    "pivot_table.plot(kind='bar')\n",
    "plt.title('Average Chebyshev Distance by Rating')\n",
    "plt.xlabel('Average Rating')\n",
    "plt.ylabel('Average Distance')\n",
    "plt.tight_layout()\n",
    "plt.show()"
   ]
  },
  {
   "cell_type": "code",
   "execution_count": 47,
   "metadata": {},
   "outputs": [
    {
     "name": "stdout",
     "output_type": "stream",
     "text": [
      "[0.29022951004789704, 0.4826149085421314, 0.6312289063286757, 0.7668200684417915]\n"
     ]
    }
   ],
   "source": [
    "breakpoints = pivot_table['avg_distance'].tolist()\n",
    "print(breakpoints)"
   ]
  },
  {
   "cell_type": "code",
   "execution_count": 49,
   "metadata": {},
   "outputs": [
    {
     "name": "stdout",
     "output_type": "stream",
     "text": [
      "Correlation between avg_rating and predicted_rating: 0.6545\n"
     ]
    }
   ],
   "source": [
    "def classify_distance(distance):\n",
    "    if distance <= breakpoints[0]:\n",
    "        return 1\n",
    "    elif distance <= breakpoints[1]:\n",
    "        return 2\n",
    "    elif distance <= breakpoints[2]:\n",
    "        return 3\n",
    "    else:\n",
    "        return 4\n",
    "\n",
    "# Apply the classification function to the original dataframe\n",
    "cohere_cosine['predicted_rating'] = cohere_cosine['avg_distance'].apply(classify_distance)\n",
    "# Calculate the correlation between avg_rating and predicted_rating\n",
    "correlation = cohere_cosine['avg_rating'].corr(cohere_cosine['predicted_rating'], method='kendall')\n",
    "print(f\"Correlation between avg_rating and predicted_rating: {correlation:.4f}\")"
   ]
  },
  {
   "cell_type": "markdown",
   "metadata": {},
   "source": [
    "### Euclidian"
   ]
  },
  {
   "cell_type": "code",
   "execution_count": 50,
   "metadata": {},
   "outputs": [
    {
     "data": {
      "text/html": [
       "<div>\n",
       "<style scoped>\n",
       "    .dataframe tbody tr th:only-of-type {\n",
       "        vertical-align: middle;\n",
       "    }\n",
       "\n",
       "    .dataframe tbody tr th {\n",
       "        vertical-align: top;\n",
       "    }\n",
       "\n",
       "    .dataframe thead th {\n",
       "        text-align: right;\n",
       "    }\n",
       "</style>\n",
       "<table border=\"1\" class=\"dataframe\">\n",
       "  <thead>\n",
       "    <tr style=\"text-align: right;\">\n",
       "      <th></th>\n",
       "      <th>image</th>\n",
       "      <th>caption_id</th>\n",
       "      <th>avg_rating</th>\n",
       "      <th>avg_distance</th>\n",
       "    </tr>\n",
       "  </thead>\n",
       "  <tbody>\n",
       "    <tr>\n",
       "      <th>0</th>\n",
       "      <td>1056338697_4f7d7ce270.jpg</td>\n",
       "      <td>2549968784_39bfbe44f9.jpg#2</td>\n",
       "      <td>1.000000</td>\n",
       "      <td>1.185865</td>\n",
       "    </tr>\n",
       "    <tr>\n",
       "      <th>1</th>\n",
       "      <td>1056338697_4f7d7ce270.jpg</td>\n",
       "      <td>2718495608_d8533e3ac5.jpg#2</td>\n",
       "      <td>1.333333</td>\n",
       "      <td>1.094873</td>\n",
       "    </tr>\n",
       "    <tr>\n",
       "      <th>2</th>\n",
       "      <td>1056338697_4f7d7ce270.jpg</td>\n",
       "      <td>3181701312_70a379ab6e.jpg#2</td>\n",
       "      <td>1.333333</td>\n",
       "      <td>1.177147</td>\n",
       "    </tr>\n",
       "    <tr>\n",
       "      <th>3</th>\n",
       "      <td>1056338697_4f7d7ce270.jpg</td>\n",
       "      <td>3207358897_bfa61fa3c6.jpg#2</td>\n",
       "      <td>1.666667</td>\n",
       "      <td>1.079037</td>\n",
       "    </tr>\n",
       "    <tr>\n",
       "      <th>4</th>\n",
       "      <td>1056338697_4f7d7ce270.jpg</td>\n",
       "      <td>3286822339_5535af6b93.jpg#2</td>\n",
       "      <td>1.333333</td>\n",
       "      <td>1.125599</td>\n",
       "    </tr>\n",
       "  </tbody>\n",
       "</table>\n",
       "</div>"
      ],
      "text/plain": [
       "                       image                   caption_id  avg_rating  \\\n",
       "0  1056338697_4f7d7ce270.jpg  2549968784_39bfbe44f9.jpg#2    1.000000   \n",
       "1  1056338697_4f7d7ce270.jpg  2718495608_d8533e3ac5.jpg#2    1.333333   \n",
       "2  1056338697_4f7d7ce270.jpg  3181701312_70a379ab6e.jpg#2    1.333333   \n",
       "3  1056338697_4f7d7ce270.jpg  3207358897_bfa61fa3c6.jpg#2    1.666667   \n",
       "4  1056338697_4f7d7ce270.jpg  3286822339_5535af6b93.jpg#2    1.333333   \n",
       "\n",
       "   avg_distance  \n",
       "0      1.185865  \n",
       "1      1.094873  \n",
       "2      1.177147  \n",
       "3      1.079037  \n",
       "4      1.125599  "
      ]
     },
     "execution_count": 50,
     "metadata": {},
     "output_type": "execute_result"
    }
   ],
   "source": [
    "cohere_euclidian = pd.read_csv(\"results/cohere_euclidian_expert_distances.csv\")\n",
    "cohere_euclidian.head()"
   ]
  },
  {
   "cell_type": "code",
   "execution_count": 51,
   "metadata": {},
   "outputs": [
    {
     "data": {
      "image/png": "[encoded data removed]",
      "text/plain": [
       "<Figure size 640x480 with 1 Axes>"
      ]
     },
     "metadata": {},
     "output_type": "display_data"
    }
   ],
   "source": [
    "pivot_table = cohere_euclidian[cohere_euclidian['avg_rating'].isin([1.0, 2.0, 3.0, 4.0])].pivot_table(\n",
    "    values='avg_distance',\n",
    "    index='avg_rating',\n",
    "    aggfunc='mean'\n",
    ")\n",
    "\n",
    "pivot_table.plot(kind='bar')\n",
    "plt.title('Average Chebyshev Distance by Rating')\n",
    "plt.xlabel('Average Rating')\n",
    "plt.ylabel('Average Distance')\n",
    "plt.tight_layout()\n",
    "plt.show()"
   ]
  },
  {
   "cell_type": "code",
   "execution_count": 52,
   "metadata": {},
   "outputs": [
    {
     "name": "stdout",
     "output_type": "stream",
     "text": [
      "[1.1891139873724645, 1.0114935154089753, 0.8470395114912604, 0.6246978445918056]\n"
     ]
    }
   ],
   "source": [
    "breakpoints = pivot_table['avg_distance'].tolist()\n",
    "print(breakpoints)"
   ]
  },
  {
   "cell_type": "code",
   "execution_count": 53,
   "metadata": {},
   "outputs": [
    {
     "name": "stdout",
     "output_type": "stream",
     "text": [
      "Correlation between avg_rating and predicted_rating: 0.6397\n"
     ]
    }
   ],
   "source": [
    "def classify_distance(distance):\n",
    "    if distance <= breakpoints[3]:\n",
    "        return 4\n",
    "    elif distance <= breakpoints[2]:\n",
    "        return 3\n",
    "    elif distance <= breakpoints[1]:\n",
    "        return 2\n",
    "    else:\n",
    "        return 1\n",
    "    \n",
    "cohere_euclidian['predicted_rating'] = cohere_euclidian['avg_distance'].apply(classify_distance)\n",
    "\n",
    "# Calculate the correlation between avg_rating and predicted_rating\n",
    "correlation = cohere_euclidian['avg_rating'].corr(cohere_euclidian['predicted_rating'], method='kendall')\n",
    "print(f\"Correlation between avg_rating and predicted_rating: {correlation:.4f}\")\n"
   ]
  },
  {
   "cell_type": "markdown",
   "metadata": {},
   "source": [
    "### Minkowski"
   ]
  },
  {
   "cell_type": "code",
   "execution_count": 54,
   "metadata": {},
   "outputs": [
    {
     "data": {
      "text/html": [
       "<div>\n",
       "<style scoped>\n",
       "    .dataframe tbody tr th:only-of-type {\n",
       "        vertical-align: middle;\n",
       "    }\n",
       "\n",
       "    .dataframe tbody tr th {\n",
       "        vertical-align: top;\n",
       "    }\n",
       "\n",
       "    .dataframe thead th {\n",
       "        text-align: right;\n",
       "    }\n",
       "</style>\n",
       "<table border=\"1\" class=\"dataframe\">\n",
       "  <thead>\n",
       "    <tr style=\"text-align: right;\">\n",
       "      <th></th>\n",
       "      <th>image</th>\n",
       "      <th>caption_id</th>\n",
       "      <th>avg_rating</th>\n",
       "      <th>avg_distance</th>\n",
       "    </tr>\n",
       "  </thead>\n",
       "  <tbody>\n",
       "    <tr>\n",
       "      <th>0</th>\n",
       "      <td>1056338697_4f7d7ce270.jpg</td>\n",
       "      <td>2549968784_39bfbe44f9.jpg#2</td>\n",
       "      <td>1.000000</td>\n",
       "      <td>1.185865</td>\n",
       "    </tr>\n",
       "    <tr>\n",
       "      <th>1</th>\n",
       "      <td>1056338697_4f7d7ce270.jpg</td>\n",
       "      <td>2718495608_d8533e3ac5.jpg#2</td>\n",
       "      <td>1.333333</td>\n",
       "      <td>1.094873</td>\n",
       "    </tr>\n",
       "    <tr>\n",
       "      <th>2</th>\n",
       "      <td>1056338697_4f7d7ce270.jpg</td>\n",
       "      <td>3181701312_70a379ab6e.jpg#2</td>\n",
       "      <td>1.333333</td>\n",
       "      <td>1.177147</td>\n",
       "    </tr>\n",
       "    <tr>\n",
       "      <th>3</th>\n",
       "      <td>1056338697_4f7d7ce270.jpg</td>\n",
       "      <td>3207358897_bfa61fa3c6.jpg#2</td>\n",
       "      <td>1.666667</td>\n",
       "      <td>1.079037</td>\n",
       "    </tr>\n",
       "    <tr>\n",
       "      <th>4</th>\n",
       "      <td>1056338697_4f7d7ce270.jpg</td>\n",
       "      <td>3286822339_5535af6b93.jpg#2</td>\n",
       "      <td>1.333333</td>\n",
       "      <td>1.125599</td>\n",
       "    </tr>\n",
       "  </tbody>\n",
       "</table>\n",
       "</div>"
      ],
      "text/plain": [
       "                       image                   caption_id  avg_rating  \\\n",
       "0  1056338697_4f7d7ce270.jpg  2549968784_39bfbe44f9.jpg#2    1.000000   \n",
       "1  1056338697_4f7d7ce270.jpg  2718495608_d8533e3ac5.jpg#2    1.333333   \n",
       "2  1056338697_4f7d7ce270.jpg  3181701312_70a379ab6e.jpg#2    1.333333   \n",
       "3  1056338697_4f7d7ce270.jpg  3207358897_bfa61fa3c6.jpg#2    1.666667   \n",
       "4  1056338697_4f7d7ce270.jpg  3286822339_5535af6b93.jpg#2    1.333333   \n",
       "\n",
       "   avg_distance  \n",
       "0      1.185865  \n",
       "1      1.094873  \n",
       "2      1.177147  \n",
       "3      1.079037  \n",
       "4      1.125599  "
      ]
     },
     "execution_count": 54,
     "metadata": {},
     "output_type": "execute_result"
    }
   ],
   "source": [
    "cohere_minkowski = pd.read_csv(\"results/cohere_minkowski_expert_distances.csv\")\n",
    "cohere_minkowski.head()"
   ]
  },
  {
   "cell_type": "code",
   "execution_count": 55,
   "metadata": {},
   "outputs": [
    {
     "data": {
      "image/png": "[encoded data removed]",
      "text/plain": [
       "<Figure size 640x480 with 1 Axes>"
      ]
     },
     "metadata": {},
     "output_type": "display_data"
    }
   ],
   "source": [
    "pivot_table = cohere_euclidian[cohere_euclidian['avg_rating'].isin([1.0, 2.0, 3.0, 4.0])].pivot_table(\n",
    "    values='avg_distance',\n",
    "    index='avg_rating',\n",
    "    aggfunc='mean'\n",
    ")\n",
    "\n",
    "pivot_table.plot(kind='bar')\n",
    "plt.title('Average Chebyshev Distance by Rating')\n",
    "plt.xlabel('Average Rating')\n",
    "plt.ylabel('Average Distance')\n",
    "plt.tight_layout()\n",
    "plt.show()"
   ]
  },
  {
   "cell_type": "code",
   "execution_count": 56,
   "metadata": {},
   "outputs": [
    {
     "name": "stdout",
     "output_type": "stream",
     "text": [
      "[1.1891139873724645, 1.0114935154089753, 0.8470395114912604, 0.6246978445918056]\n"
     ]
    }
   ],
   "source": [
    "breakpoints = pivot_table['avg_distance'].tolist()\n",
    "print(breakpoints)"
   ]
  },
  {
   "cell_type": "code",
   "execution_count": 57,
   "metadata": {},
   "outputs": [
    {
     "name": "stdout",
     "output_type": "stream",
     "text": [
      "Correlation between avg_rating and predicted_rating: 0.6397\n"
     ]
    }
   ],
   "source": [
    "def classify_distance(distance):\n",
    "    if distance <= breakpoints[3]:\n",
    "        return 4\n",
    "    elif distance <= breakpoints[2]:\n",
    "        return 3\n",
    "    elif distance <= breakpoints[1]:\n",
    "        return 2\n",
    "    else:\n",
    "        return 1\n",
    "    \n",
    "cohere_minkowski['predicted_rating'] = cohere_minkowski['avg_distance'].apply(classify_distance)\n",
    "\n",
    "# Calculate the correlation between avg_rating and predicted_rating\n",
    "correlation = cohere_minkowski['avg_rating'].corr(cohere_minkowski['predicted_rating'], method='kendall')\n",
    "print(f\"Correlation between avg_rating and predicted_rating: {correlation:.4f}\")"
   ]
  },
  {
   "cell_type": "code",
   "execution_count": null,
   "metadata": {},
   "outputs": [],
   "source": []
  }
 ],
 "metadata": {
  "kernelspec": {
   "display_name": "Python 3 (ipykernel)",
   "language": "python",
   "name": "python3"
  },
  "language_info": {
   "codemirror_mode": {
    "name": "ipython",
    "version": 3
   },
   "file_extension": ".py",
   "mimetype": "text/x-python",
   "name": "python",
   "nbconvert_exporter": "python",
   "pygments_lexer": "ipython3",
   "version": "3.12.3"
  }
 },
 "nbformat": 4,
 "nbformat_minor": 2
}
